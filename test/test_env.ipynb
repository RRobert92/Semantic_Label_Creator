from src.load_data import *

test_img = SemanticLabelFromAmira(
	"C:/Users/kerth/Documents/Semantic_Label_Creator/data/Test_ET_Slim.tif",
	"C:/Users/kerth/Documents/Semantic_Label_Creator/data/Test_ET_Slim.CorrelationLines.am"
)

label = test_img.semantic_label()
print(label.shape)

x, y, z = test_img.read_tiff_transformation()
print(x, y, z)

SG = test_img.spatial_graph

segments = test_img.find_segments()
