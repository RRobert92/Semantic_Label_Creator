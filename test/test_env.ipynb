from src.load_data import *

test_img = SemanticLabelFromAmira(
	"C:/Users/kerth/Documents/Semantic_Label_Creator/data/Test_ET_Slim.tif",
	"C:/Users/kerth/Documents/Semantic_Label_Creator/data/Test_ET_Slim.CorrelationLines.am"
)

label = test_img.semantic_label()
print(label.shape)

x, y, z = test_img.read_tiff_transformation()
print(x, y, z)

SG = test_img.spatial_graph

SG.index("@18")

segment_at = str([
	word for word in SG if word.startswith('POINT { float[3] EdgePointCoordinates }')
])
segment_at = "".join((ch if ch in "0123456789" else " ") for ch in segment_at)
segment_at = [int(i) for i in segment_at.split()]
segment_at = SG.index("@" + str(segment_at[1]))


