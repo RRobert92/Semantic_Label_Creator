{
 "cells": [
  {
   "cell_type": "code",
   "execution_count": 9,
   "metadata": {
    "scrolled": false
   },
   "outputs": [],
   "source": [
    "from src.import_data import *"
   ]
  },
  {
   "cell_type": "code",
   "execution_count": 10,
   "metadata": {},
   "outputs": [],
   "source": [
    "test_img = SemanticLabelFromAmira(\n",
    "\t\"../data/Test_ET_Slim.tif\",\n",
    "\t\"../data/Test_ET_Slim.CorrelationLines.am\"\n",
    ")"
   ]
  },
  {
   "cell_type": "code",
   "execution_count": 4,
   "metadata": {
    "pycharm": {
     "name": "#%%\n"
    }
   },
   "outputs": [
    {
     "name": "stdout",
     "output_type": "stream",
     "text": [
      "(65, 1001, 1001)\n"
     ]
    }
   ],
   "source": [
    "# Test for the\n",
    "label = test_img.semantic_label()\n",
    "spatial_graph = test_img.spatial_graph\n",
    "segments = test_img.get_segments()\n",
    "points = test_img.get_points()\n"
   ]
  }
 ],
 "metadata": {
  "kernelspec": {
   "display_name": "Python 3",
   "language": "python",
   "name": "python3"
  },
  "language_info": {
   "codemirror_mode": {
    "name": "ipython",
    "version": 3
   },
   "file_extension": ".py",
   "mimetype": "text/x-python",
   "name": "python",
   "nbconvert_exporter": "python",
   "pygments_lexer": "ipython3",
   "version": "3.8.10"
  }
 },
 "nbformat": 4,
 "nbformat_minor": 1
}