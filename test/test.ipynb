{
 "cells": [
  {
   "cell_type": "code",
   "execution_count": 1,
   "metadata": {
    "scrolled": false
   },
   "outputs": [],
   "source": [
    "from slcpy.import_data import *"
   ]
  },
  {
   "cell_type": "code",
   "execution_count": 3,
   "metadata": {},
   "outputs": [
    {
     "name": "stdout",
     "output_type": "stream",
     "text": [
      "<slcpy.import_data.ImportDataFromAmira object at 0x00000174FEC33400>\n"
     ]
    }
   ],
   "source": [
    "test_img = ImportDataFromAmira(\n",
    "\t\"../data/Test_ET_Slim.tif\",\n",
    "\t\"../data/Test_ET_Slim.CorrelationLines.am\"\n",
    ")\n",
    "print(test_img)\n",
    "\n",
    "# test_img = ImportDataFromAmira(\n",
    "# \t\"../data/Test_ET_Slim.am\",\n",
    "# \t\"../data/Test_ET_Slim.CorrelationLines.am\"\n",
    "# )\n",
    "# print(test_img)"
   ]
  },
  {
   "cell_type": "code",
   "execution_count": 4,
   "metadata": {
    "pycharm": {
     "name": "#%%\n"
    }
   },
   "outputs": [
    {
     "name": "stdout",
     "output_type": "stream",
     "text": [
      "[10]\n",
      "[[ 99. 559.   2.]\n",
      " [ 97. 557.   6.]\n",
      " [ 96. 555.  10.]\n",
      " [ 94. 550.  18.]\n",
      " [ 91. 540.  41.]\n",
      " [ 90. 539.  45.]\n",
      " [ 89. 537.  52.]\n",
      " [ 89. 536.  55.]\n",
      " [ 88. 535.  59.]\n",
      " [ 87. 534.  64.]]\n"
     ]
    }
   ],
   "source": [
    "# Test for the\n",
    "label = test_img.semantic_label()\n",
    "spatial_graph = test_img.spatial_graph\n",
    "segments = test_img.get_segments()\n",
    "print(segments[0]) # Number of points belongs to each segment\n",
    "\n",
    "points = test_img.get_points().round(0)\n",
    "print(points[0:int(segments[0])]) # Point belong to 1st segments with coord in pixels"
   ]
  }
 ],
 "metadata": {
  "kernelspec": {
   "display_name": "Python 3",
   "language": "python",
   "name": "python3"
  },
  "language_info": {
   "codemirror_mode": {
    "name": "ipython",
    "version": 3
   },
   "file_extension": ".py",
   "mimetype": "text/x-python",
   "name": "python",
   "nbconvert_exporter": "python",
   "pygments_lexer": "ipython3",
   "version": "3.8.10"
  }
 },
 "nbformat": 4,
 "nbformat_minor": 1
}