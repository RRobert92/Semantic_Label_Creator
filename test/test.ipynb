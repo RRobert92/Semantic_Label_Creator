{
 "cells": [
  {
   "cell_type": "code",
   "execution_count": 1,
   "metadata": {
    "scrolled": false
   },
   "outputs": [],
   "source": [
    "from slcpy.import_data import *"
   ]
  },
  {
   "cell_type": "code",
   "execution_count": 2,
   "metadata": {},
   "outputs": [
    {
     "name": "stdout",
     "output_type": "stream",
     "text": [
      "<slcpy.import_data.ImportDataFromAmira object at 0x0000029C7EAB5B80>\n"
     ]
    }
   ],
   "source": [
    "test_img = ImportDataFromAmira(\n",
    "\t\"../data/Test_ET_Slim.tif\",\n",
    "\t\"../data/Test_ET_Slim.CorrelationLines.am\"\n",
    ")\n",
    "print(test_img)\n",
    "\n",
    "# test_img = ImportDataFromAmira(\n",
    "# \t\"../data/Test_ET_Slim.am\",\n",
    "# \t\"../data/Test_ET_Slim.CorrelationLines.am\"\n",
    "# )\n",
    "# print(test_img)"
   ]
  },
  {
   "cell_type": "code",
   "execution_count": 3,
   "metadata": {
    "pycharm": {
     "name": "#%%\n"
    }
   },
   "outputs": [
    {
     "name": "stdout",
     "output_type": "stream",
     "text": [
      "[10]\n",
      "[[ 98.51535797 558.59306335   2.02987671]\n",
      " [ 97.49973297 556.56181335   6.09237671]\n",
      " [ 96.48410797 554.53056335  10.15487671]\n",
      " [ 94.45285797 550.46806335  18.27987671]\n",
      " [ 91.40598297 540.31181335  40.62362671]\n",
      " [ 90.39035797 539.29618835  44.68612671]\n",
      " [ 89.37473297 537.26493835  51.79550171]\n",
      " [ 89.37473297 536.24931335  54.84237671]\n",
      " [ 88.35910797 535.23368835  58.90487671]\n",
      " [ 87.34348297 534.21806335  63.98300171]]\n"
     ]
    }
   ],
   "source": [
    "# Test for the\n",
    "label = test_img.empty_semantic_label()\n",
    "spatial_graph = test_img.spatial_graph\n",
    "segments = test_img.get_segments()\n",
    "print(segments[0]) # Number of points belongs to each segment\n",
    "\n",
    "points = test_img.get_points()\n",
    "print(points[0:int(segments[0])]) # Point belong to 1st segments with coord in pixels"
   ]
  }
 ],
 "metadata": {
  "kernelspec": {
   "display_name": "Python 3",
   "language": "python",
   "name": "python3"
  },
  "language_info": {
   "codemirror_mode": {
    "name": "ipython",
    "version": 3
   },
   "file_extension": ".py",
   "mimetype": "text/x-python",
   "name": "python",
   "nbconvert_exporter": "python",
   "pygments_lexer": "ipython3",
   "version": "3.8.10"
  }
 },
 "nbformat": 4,
 "nbformat_minor": 1
}