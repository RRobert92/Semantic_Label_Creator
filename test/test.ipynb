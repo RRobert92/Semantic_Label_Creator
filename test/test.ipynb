{
 "cells": [
  {
   "cell_type": "code",
   "execution_count": 2,
   "metadata": {
    "scrolled": false
   },
   "outputs": [],
   "source": [
    "from slcpy.import_data import *"
   ]
  },
  {
   "cell_type": "code",
   "execution_count": 4,
   "metadata": {},
   "outputs": [
    {
     "name": "stdout",
     "output_type": "stream",
     "text": [
      "Directory or input .tiff file is not correct...\n",
      "all good\n",
      "<src.import_data.ImportDataFromAmira object at 0x000001F3B3D6F9A0>\n"
     ]
    }
   ],
   "source": [
    "# test_img = ImportDataFromAmira(\n",
    "# \t\"../data/Test_ET_Slim.tif\",\n",
    "# \t\"../data/Test_ET_Slim.CorrelationLines.am\"\n",
    "# )\n",
    "# print(test_img)\n",
    "\n",
    "test_img = ImportDataFromAmira(\n",
    "\t\"../data/Test_ET_Slim.am\",\n",
    "\t\"../data/Test_ET_Slim.CorrelationLines.am\"\n",
    ")\n",
    "print(test_img)"
   ]
  },
  {
   "cell_type": "code",
   "execution_count": 4,
   "metadata": {
    "pycharm": {
     "name": "#%%\n"
    }
   },
   "outputs": [
    {
     "ename": "AttributeError",
     "evalue": "'ImportDataFromAmira' object has no attribute 'image'",
     "output_type": "error",
     "traceback": [
      "\u001B[1;31m---------------------------------------------------------------------------\u001B[0m",
      "\u001B[1;31mAttributeError\u001B[0m                            Traceback (most recent call last)",
      "\u001B[1;32m<ipython-input-4-b26ceae1cfea>\u001B[0m in \u001B[0;36m<module>\u001B[1;34m\u001B[0m\n\u001B[0;32m      1\u001B[0m \u001B[1;31m# Test for the\u001B[0m\u001B[1;33m\u001B[0m\u001B[1;33m\u001B[0m\u001B[1;33m\u001B[0m\u001B[0m\n\u001B[1;32m----> 2\u001B[1;33m \u001B[0mlabel\u001B[0m \u001B[1;33m=\u001B[0m \u001B[0mtest_img\u001B[0m\u001B[1;33m.\u001B[0m\u001B[0msemantic_label\u001B[0m\u001B[1;33m(\u001B[0m\u001B[1;33m)\u001B[0m\u001B[1;33m\u001B[0m\u001B[1;33m\u001B[0m\u001B[0m\n\u001B[0m\u001B[0;32m      3\u001B[0m \u001B[0mspatial_graph\u001B[0m \u001B[1;33m=\u001B[0m \u001B[0mtest_img\u001B[0m\u001B[1;33m.\u001B[0m\u001B[0mspatial_graph\u001B[0m\u001B[1;33m\u001B[0m\u001B[1;33m\u001B[0m\u001B[0m\n\u001B[0;32m      4\u001B[0m \u001B[0msegments\u001B[0m \u001B[1;33m=\u001B[0m \u001B[0mtest_img\u001B[0m\u001B[1;33m.\u001B[0m\u001B[0mget_segments\u001B[0m\u001B[1;33m(\u001B[0m\u001B[1;33m)\u001B[0m\u001B[1;33m\u001B[0m\u001B[1;33m\u001B[0m\u001B[0m\n\u001B[0;32m      5\u001B[0m \u001B[0mprint\u001B[0m\u001B[1;33m(\u001B[0m\u001B[0msegments\u001B[0m\u001B[1;33m[\u001B[0m\u001B[1;36m0\u001B[0m\u001B[1;33m]\u001B[0m\u001B[1;33m)\u001B[0m \u001B[1;31m# Number of points belongs to each segment\u001B[0m\u001B[1;33m\u001B[0m\u001B[1;33m\u001B[0m\u001B[0m\n",
      "\u001B[1;32m~\\Documents\\GitHub\\Semantic_Label_Creator\\src\\import_data.py\u001B[0m in \u001B[0;36msemantic_label\u001B[1;34m(self)\u001B[0m\n\u001B[0;32m     36\u001B[0m \u001B[1;33m\u001B[0m\u001B[0m\n\u001B[0;32m     37\u001B[0m     \u001B[1;32mdef\u001B[0m \u001B[0msemantic_label\u001B[0m\u001B[1;33m(\u001B[0m\u001B[0mself\u001B[0m\u001B[1;33m)\u001B[0m\u001B[1;33m:\u001B[0m\u001B[1;33m\u001B[0m\u001B[1;33m\u001B[0m\u001B[0m\n\u001B[1;32m---> 38\u001B[1;33m         \u001B[1;32mreturn\u001B[0m \u001B[0mnp\u001B[0m\u001B[1;33m.\u001B[0m\u001B[0mzeros\u001B[0m\u001B[1;33m(\u001B[0m\u001B[0mself\u001B[0m\u001B[1;33m.\u001B[0m\u001B[0mimage\u001B[0m\u001B[1;33m.\u001B[0m\u001B[0mshape\u001B[0m\u001B[1;33m)\u001B[0m\u001B[1;33m\u001B[0m\u001B[1;33m\u001B[0m\u001B[0m\n\u001B[0m\u001B[0;32m     39\u001B[0m \u001B[1;33m\u001B[0m\u001B[0m\n\u001B[0;32m     40\u001B[0m     \u001B[1;32mdef\u001B[0m \u001B[0mget_segments\u001B[0m\u001B[1;33m(\u001B[0m\u001B[0mself\u001B[0m\u001B[1;33m)\u001B[0m\u001B[1;33m:\u001B[0m\u001B[1;33m\u001B[0m\u001B[1;33m\u001B[0m\u001B[0m\n",
      "\u001B[1;31mAttributeError\u001B[0m: 'ImportDataFromAmira' object has no attribute 'image'"
     ]
    }
   ],
   "source": [
    "# Test for the\n",
    "label = test_img.semantic_label()\n",
    "spatial_graph = test_img.spatial_graph\n",
    "segments = test_img.get_segments()\n",
    "print(segments[0]) # Number of points belongs to each segment\n",
    "\n",
    "points = test_img.get_points().round(0)\n",
    "print(points[0:int(segments[0])]) # Point belong to 1st segments with coord in pixels"
   ]
  }
 ],
 "metadata": {
  "kernelspec": {
   "display_name": "Python 3",
   "language": "python",
   "name": "python3"
  },
  "language_info": {
   "codemirror_mode": {
    "name": "ipython",
    "version": 3
   },
   "file_extension": ".py",
   "mimetype": "text/x-python",
   "name": "python",
   "nbconvert_exporter": "python",
   "pygments_lexer": "ipython3",
   "version": "3.8.10"
  }
 },
 "nbformat": 4,
 "nbformat_minor": 1
}