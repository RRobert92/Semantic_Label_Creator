{
 "cells": [
  {
   "cell_type": "code",
   "execution_count": 15,
   "metadata": {
    "scrolled": false
   },
   "outputs": [],
   "source": [
    "from slcpy.import_data import ImportDataFromAmira\n",
    "from slcpy.build_segment import *\n",
    "from skimage import io"
   ]
  },
  {
   "cell_type": "code",
   "execution_count": 16,
   "metadata": {},
   "outputs": [],
   "source": [
    "test_img = ImportDataFromAmira(\n",
    "\t\"../data/Test_ET_Slim.tif\",\n",
    "\t\"../data/Test_ET_Slim.CorrelationLines.am\"\n",
    ")"
   ]
  },
  {
   "cell_type": "code",
   "execution_count": 17,
   "outputs": [],
   "source": [
    "# test_warning = ImportDataFromAmira(\n",
    "# \t\"../data/Test_ET_Slim.am\",\n",
    "# \t\"../data/Test_ET_Slim.CorrelationLines.am\"\n",
    "# )\n",
    "# print(test_warning)"
   ],
   "metadata": {
    "collapsed": false,
    "pycharm": {
     "name": "#%%\n"
    }
   }
  },
  {
   "cell_type": "code",
   "execution_count": 18,
   "outputs": [
    {
     "name": "stdout",
     "output_type": "stream",
     "text": [
      "(65, 1001, 1001)\n",
      "../data/Test_ET_Slim.tif\n"
     ]
    }
   ],
   "source": [
    "img = io.imread(test_img.src_tiff)\n",
    "print(img.shape)\n",
    "print(test_img.src_tiff)"
   ],
   "metadata": {
    "collapsed": false,
    "pycharm": {
     "name": "#%%\n"
    }
   }
  },
  {
   "cell_type": "code",
   "execution_count": 19,
   "metadata": {
    "pycharm": {
     "name": "#%%\n"
    }
   },
   "outputs": [
    {
     "name": "stdout",
     "output_type": "stream",
     "text": [
      "(65, 1001, 1001)\n",
      "../data/Test_ET_Slim.CorrelationLines.am\n"
     ]
    }
   ],
   "source": [
    "# Test for the building empty semantic label\n",
    "label = test_img.empty_semantic_label()\n",
    "print(label.shape)\n",
    "print(test_img.src_am)"
   ]
  },
  {
   "cell_type": "code",
   "execution_count": 20,
   "outputs": [
    {
     "name": "stdout",
     "output_type": "stream",
     "text": [
      "[10]\n",
      "(10, 3)\n"
     ]
    }
   ],
   "source": [
    "# Test for the building segments\n",
    "segments = test_img.get_segments()\n",
    "print(segments[0]) # Number of points belongs to each segment\n",
    "\n",
    "# Test for the building points [px]\n",
    "points = test_img.get_points().round()\n",
    "print(points[0:int(segments[0])].shape) # Point belong to 1st segments with coord in pixels"
   ],
   "metadata": {
    "collapsed": false,
    "pycharm": {
     "name": "#%%\n"
    }
   }
  },
  {
   "cell_type": "code",
   "execution_count": 21,
   "outputs": [
    {
     "name": "stdout",
     "output_type": "stream",
     "text": [
      "Duration: 0:00:00.002009\n",
      "(62, 3)\n"
     ]
    }
   ],
   "source": [
    "from datetime import datetime\n",
    "start_time = datetime.now()\n",
    "MT = interpolation_3D(points[0:int(segments[0])])\n",
    "end_time = datetime.now()\n",
    "print('Duration: {}'.format(end_time - start_time))\n",
    "print(MT.shape)"
   ],
   "metadata": {
    "collapsed": false,
    "pycharm": {
     "name": "#%%\n"
    }
   }
  }
 ],
 "metadata": {
  "kernelspec": {
   "name": "python3",
   "language": "python",
   "display_name": "Python 3"
  },
  "language_info": {
   "codemirror_mode": {
    "name": "ipython",
    "version": 3
   },
   "file_extension": ".py",
   "mimetype": "text/x-python",
   "name": "python",
   "nbconvert_exporter": "python",
   "pygments_lexer": "ipython3",
   "version": "3.8.10"
  }
 },
 "nbformat": 4,
 "nbformat_minor": 1
}