{
    "cells": [
        {
            "cell_type": "code",
            "execution_count": 8,
            "metadata": {
                "scrolled": false
            },
            "outputs": [],
            "source": [
                "from slcpy.import_data import *"
            ]
        },
        {
            "cell_type": "code",
            "execution_count": 9,
            "metadata": {},
            "outputs": [],
            "source": [
                "test_img = ImportDataFromAmira(\n",
                "\t\"../data/Test_ET_Slim.tif\",\n",
                "\t\"../data/Test_ET_Slim.CorrelationLines.am\"\n",
                ")"
            ]
        },
        {
            "cell_type": "code",
            "execution_count": 10,
            "outputs": [],
            "source": [
                "# test_warning = ImportDataFromAmira(\n",
                "# \t\"../data/Test_ET_Slim.am\",\n",
                "# \t\"../data/Test_ET_Slim.CorrelationLines.am\"\n",
                "# )\n",
                "# print(test_warning)"
            ],
            "metadata": {
                "collapsed": false,
                "pycharm": {
                    "name": "#%%\n"
                }
            }
        },
        {
            "cell_type": "code",
            "execution_count": 11,
            "outputs": [
                {
                    "name": "stdout",
                    "output_type": "stream",
                    "text": [
                        "(65, 1001, 1001)\n",
                        "../data/Test_ET_Slim.tif\n"
                    ]
                }
            ],
            "source": [
                "img = io.imread(test_img.src_tiff)\n",
                "print(img.shape)\n",
                "print(test_img.src_tiff)"
            ],
            "metadata": {
                "collapsed": false,
                "pycharm": {
                    "name": "#%%\n"
                }
            }
        },
        {
            "cell_type": "code",
            "execution_count": 12,
            "metadata": {
                "pycharm": {
                    "name": "#%%\n"
                }
            },
            "outputs": [
                {
                    "name": "stdout",
                    "output_type": "stream",
                    "text": [
                        "(65, 1001, 1001)\n",
                        "../data/Test_ET_Slim.CorrelationLines.am\n"
                    ]
                }
            ],
            "source": [
                "# Test for the building empty semantic label\n",
                "label = test_img.empty_semantic_label()\n",
                "print(label.shape)\n",
                "print(test_img.src_am)"
            ]
        },
        {
            "cell_type": "code",
            "execution_count": 13,
            "outputs": [
                {
                    "name": "stdout",
                    "output_type": "stream",
                    "text": [
                        "[10]\n",
                        "[[ 99. 559.   2.]\n",
                        " [ 97. 557.   6.]\n",
                        " [ 96. 555.  10.]\n",
                        " [ 94. 550.  18.]\n",
                        " [ 91. 540.  41.]\n",
                        " [ 90. 539.  45.]\n",
                        " [ 89. 537.  52.]\n",
                        " [ 89. 536.  55.]\n",
                        " [ 88. 535.  59.]\n",
                        " [ 87. 534.  64.]]\n"
                    ]
                }
            ],
            "source": [
                "# Test for the building segments\n",
                "segments = test_img.get_segments()\n",
                "print(segments[0]) # Number of points belongs to each segment\n",
                "\n",
                "# Test for the building points [px]\n",
                "points = test_img.get_points().round()\n",
                "print(points[0:int(segments[0])]) # Point belong to 1st segments with coord in pixels"
            ],
            "metadata": {
                "collapsed": false,
                "pycharm": {
                    "name": "#%%\n"
                }
            }
        }
    ],
    "metadata": {
        "kernelspec": {
            "name": "python3",
            "language": "python",
            "display_name": "Python 3"
        },
        "language_info": {
            "codemirror_mode": {
                "name": "ipython",
                "version": 3
            },
            "file_extension": ".py",
            "mimetype": "text/x-python",
            "name": "python",
            "nbconvert_exporter": "python",
            "pygments_lexer": "ipython3",
            "version": "3.8.10"
        }
    },
    "nbformat": 4,
    "nbformat_minor": 1
}
