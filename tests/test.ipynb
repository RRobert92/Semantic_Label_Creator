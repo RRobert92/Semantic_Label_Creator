{
 "cells": [
  {
   "cell_type": "code",
   "execution_count": 9,
   "metadata": {
    "scrolled": false
   },
   "outputs": [],
   "source": [
    "from slcpy.import_data import ImportDataFromAmira\n",
    "from slcpy.build_segment import *\n",
    "from skimage import io"
   ]
  },
  {
   "cell_type": "code",
   "execution_count": 10,
   "metadata": {},
   "outputs": [],
   "source": [
    "test_img = ImportDataFromAmira(\n",
    "\t\"../data/Test_ET_Slim.tif\",\n",
    "\t\"../data/Test_ET_Slim.CorrelationLines.am\"\n",
    ")"
   ]
  },
  {
   "cell_type": "code",
   "execution_count": 11,
   "outputs": [],
   "source": [
    "# test_warning = ImportDataFromAmira(\n",
    "# \t\"../data/Test_ET_Slim.am\",\n",
    "# \t\"../data/Test_ET_Slim.CorrelationLines.am\"\n",
    "# )\n",
    "# print(test_warning)"
   ],
   "metadata": {
    "collapsed": false,
    "pycharm": {
     "name": "#%%\n"
    }
   }
  },
  {
   "cell_type": "code",
   "execution_count": 12,
   "outputs": [
    {
     "name": "stdout",
     "output_type": "stream",
     "text": [
      "(65, 1001, 1001)\n",
      "../data/Test_ET_Slim.tif\n"
     ]
    }
   ],
   "source": [
    "img = io.imread(test_img.src_tiff)\n",
    "print(img.shape)\n",
    "print(test_img.src_tiff)"
   ],
   "metadata": {
    "collapsed": false,
    "pycharm": {
     "name": "#%%\n"
    }
   }
  },
  {
   "cell_type": "code",
   "execution_count": 13,
   "metadata": {
    "pycharm": {
     "name": "#%%\n"
    }
   },
   "outputs": [
    {
     "name": "stdout",
     "output_type": "stream",
     "text": [
      "(65, 1001, 1001)\n",
      "../data/Test_ET_Slim.CorrelationLines.am\n"
     ]
    }
   ],
   "source": [
    "# Test for the building empty semantic label\n",
    "label = test_img.empty_semantic_label()\n",
    "print(label.shape)\n",
    "print(test_img.src_am)"
   ]
  },
  {
   "cell_type": "code",
   "execution_count": 14,
   "outputs": [
    {
     "name": "stdout",
     "output_type": "stream",
     "text": [
      "[15]\n",
      "[[627. 747.   1.]\n",
      " [625. 745.   1.]\n",
      " [623. 743.   1.]\n",
      " [605. 729.   3.]\n",
      " [603. 727.   3.]\n",
      " [601. 725.   3.]\n",
      " [591. 716.   4.]\n",
      " [574. 702.   6.]\n",
      " [571. 700.   6.]\n",
      " [568. 698.   6.]\n",
      " [556. 690.   7.]\n",
      " [543. 681.   9.]\n",
      " [541. 679.   9.]\n",
      " [539. 677.   9.]\n",
      " [524. 666.  11.]\n",
      " [522. 664.  11.]\n",
      " [520. 662.  11.]\n",
      " [518. 660.  11.]\n",
      " [516. 658.  11.]\n",
      " [514. 656.  11.]\n",
      " [509. 651.  11.]\n",
      " [507. 649.  11.]\n",
      " [505. 647.  11.]\n",
      " [494. 636.  13.]\n",
      " [492. 634.  13.]\n",
      " [490. 632.  13.]\n",
      " [487. 630.  13.]\n",
      " [479. 624.  13.]\n",
      " [460. 608.  14.]\n",
      " [458. 606.  14.]\n",
      " [456. 604.  14.]\n",
      " [454. 602.  14.]\n",
      " [452. 600.  14.]\n",
      " [450. 598.  14.]\n",
      " [448. 596.  14.]]\n",
      "range(0, 210)\n"
     ]
    }
   ],
   "source": [
    "# Test for the building segments\n",
    "segments = test_img.get_segments()\n",
    "print(segments[2]) # Number of points belongs to each segment\n",
    "\n",
    "# Test for the building points [px]\n",
    "points = test_img.get_points().round()\n",
    "print(points[574:609]) # Point belong to 1st segments with coord in pixels\n",
    "print(range(len(segments)))"
   ],
   "metadata": {
    "collapsed": false,
    "pycharm": {
     "name": "#%%\n"
    }
   }
  },
  {
   "cell_type": "code",
   "execution_count": 16,
   "outputs": [
    {
     "name": "stdout",
     "output_type": "stream",
     "text": [
      "Duration: 0:00:00.293214\n",
      "[[1011.  776.   15.]\n",
      " [1009.  773.   16.]\n",
      " [1007.  770.   17.]\n",
      " [1004.  768.   18.]\n",
      " [1002.  765.   19.]\n",
      " [1000.  762.   20.]\n",
      " [ 997.  760.   21.]\n",
      " [ 995.  757.   22.]\n",
      " [ 995.  757.   22.]\n",
      " [ 994.  756.   23.]\n",
      " [ 993.  754.   24.]\n",
      " [ 992.  753.   25.]\n",
      " [ 992.  753.   25.]\n",
      " [ 990.  751.   26.]\n",
      " [ 989.  749.   27.]\n",
      " [ 987.  748.   28.]\n",
      " [ 986.  746.   29.]\n",
      " [ 984.  745.   30.]\n",
      " [ 983.  743.   31.]\n",
      " [ 981.  742.   32.]\n",
      " [ 980.  740.   33.]\n",
      " [ 978.  739.   34.]\n",
      " [ 977.  737.   35.]\n",
      " [ 977.  737.   35.]\n",
      " [ 974.  735.   36.]\n",
      " [ 972.  733.   37.]\n",
      " [ 969.  731.   38.]\n",
      " [ 967.  728.   39.]\n",
      " [ 964.  726.   40.]\n",
      " [ 962.  724.   41.]\n",
      " [ 959.  722.   42.]\n",
      " [ 959.  722.   42.]\n",
      " [ 957.  720.   43.]\n",
      " [ 954.  717.   44.]\n",
      " [ 951.  714.   45.]\n",
      " [ 948.  711.   46.]\n",
      " [ 946.  709.   47.]\n",
      " [ 944.  707.   48.]\n",
      " [ 944.  707.   48.]\n",
      " [ 941.  705.   49.]\n",
      " [ 938.  702.   50.]\n",
      " [ 935.  699.   51.]\n",
      " [ 931.  697.   52.]\n",
      " [ 928.  694.   53.]\n",
      " [ 925.  691.   54.]\n",
      " [ 925.  691.   54.]\n",
      " [ 922.  689.   55.]\n",
      " [ 920.  687.   56.]\n",
      " [ 920.  687.   56.]\n",
      " [ 916.  684.   57.]\n",
      " [ 914.  682.   58.]\n",
      " [ 911.  679.   59.]\n",
      " [ 909.  677.   60.]\n",
      " [ 909.  677.   60.]\n",
      " [ 907.  675.   61.]]\n"
     ]
    }
   ],
   "source": [
    "from datetime import datetime\n",
    "start_time = datetime.now()\n",
    "for i in range(len(segments)):\n",
    "\tstart_point = int(sum(segments[0:i]))\n",
    "\tstop_point = start_point + int(segments[i])\n",
    "\tif i == 0:\n",
    "\t\tstart_point = start_point + 1\n",
    "\n",
    "\tMT = interpolation_3D(points[start_point:stop_point])\n",
    "\n",
    "end_time = datetime.now()\n",
    "print('Duration: {}'.format(end_time - start_time))\n",
    "print(MT)"
   ],
   "metadata": {
    "collapsed": false,
    "pycharm": {
     "name": "#%%\n"
    }
   }
  }
 ],
 "metadata": {
  "kernelspec": {
   "name": "python3",
   "language": "python",
   "display_name": "Python 3"
  },
  "language_info": {
   "codemirror_mode": {
    "name": "ipython",
    "version": 3
   },
   "file_extension": ".py",
   "mimetype": "text/x-python",
   "name": "python",
   "nbconvert_exporter": "python",
   "pygments_lexer": "ipython3",
   "version": "3.8.10"
  }
 },
 "nbformat": 4,
 "nbformat_minor": 1
}